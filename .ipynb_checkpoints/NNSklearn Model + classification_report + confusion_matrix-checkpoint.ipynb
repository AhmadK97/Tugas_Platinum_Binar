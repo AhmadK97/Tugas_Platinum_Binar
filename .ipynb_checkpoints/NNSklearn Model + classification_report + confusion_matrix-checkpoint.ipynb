{
 "cells": [
  {
   "cell_type": "markdown",
   "id": "8726faab",
   "metadata": {},
   "source": [
    "### Import Data yang dibutuhkan"
   ]
  },
  {
   "cell_type": "code",
   "execution_count": 25,
   "id": "2aa182c9",
   "metadata": {
    "ExecuteTime": {
     "end_time": "2023-03-05T15:01:22.860916Z",
     "start_time": "2023-03-05T15:01:22.847438Z"
    }
   },
   "outputs": [],
   "source": [
    "import numpy as np\n",
    "import pandas as pd\n",
    "import re\n",
    "\n",
    "from sklearn.model_selection import train_test_split\n",
    "from sklearn.pipeline import Pipeline\n",
    "from sklearn.compose import ColumnTransformer\n",
    "\n",
    "from jcopml.pipeline import num_pipe, cat_pipe\n",
    "from jcopml.utils import save_model, load_model\n",
    "from jcopml.plot import plot_missing_value\n",
    "from jcopml.feature_importance import mean_score_decrease"
   ]
  },
  {
   "cell_type": "markdown",
   "id": "102cb99f",
   "metadata": {},
   "source": [
    "### Import CSV dan Cleaning"
   ]
  },
  {
   "cell_type": "code",
   "execution_count": 26,
   "id": "e3ebdb36",
   "metadata": {
    "ExecuteTime": {
     "end_time": "2023-03-05T15:01:25.670646Z",
     "start_time": "2023-03-05T15:01:25.568634Z"
    }
   },
   "outputs": [
    {
     "data": {
      "text/html": [
       "<div>\n",
       "<style scoped>\n",
       "    .dataframe tbody tr th:only-of-type {\n",
       "        vertical-align: middle;\n",
       "    }\n",
       "\n",
       "    .dataframe tbody tr th {\n",
       "        vertical-align: top;\n",
       "    }\n",
       "\n",
       "    .dataframe thead th {\n",
       "        text-align: right;\n",
       "    }\n",
       "</style>\n",
       "<table border=\"1\" class=\"dataframe\">\n",
       "  <thead>\n",
       "    <tr style=\"text-align: right;\">\n",
       "      <th></th>\n",
       "      <th>0</th>\n",
       "      <th>1</th>\n",
       "    </tr>\n",
       "  </thead>\n",
       "  <tbody>\n",
       "    <tr>\n",
       "      <th>0</th>\n",
       "      <td>warung ini dimiliki oleh pengusaha pabrik tahu...</td>\n",
       "      <td>positive</td>\n",
       "    </tr>\n",
       "    <tr>\n",
       "      <th>1</th>\n",
       "      <td>mohon ulama lurus dan k212 mmbri hujjah partai...</td>\n",
       "      <td>neutral</td>\n",
       "    </tr>\n",
       "    <tr>\n",
       "      <th>2</th>\n",
       "      <td>lokasi strategis di jalan sumatera bandung . t...</td>\n",
       "      <td>positive</td>\n",
       "    </tr>\n",
       "    <tr>\n",
       "      <th>3</th>\n",
       "      <td>betapa bahagia nya diri ini saat unboxing pake...</td>\n",
       "      <td>positive</td>\n",
       "    </tr>\n",
       "    <tr>\n",
       "      <th>4</th>\n",
       "      <td>duh . jadi mahasiswa jangan sombong dong . kas...</td>\n",
       "      <td>negative</td>\n",
       "    </tr>\n",
       "  </tbody>\n",
       "</table>\n",
       "</div>"
      ],
      "text/plain": [
       "                                                   0         1\n",
       "0  warung ini dimiliki oleh pengusaha pabrik tahu...  positive\n",
       "1  mohon ulama lurus dan k212 mmbri hujjah partai...   neutral\n",
       "2  lokasi strategis di jalan sumatera bandung . t...  positive\n",
       "3  betapa bahagia nya diri ini saat unboxing pake...  positive\n",
       "4  duh . jadi mahasiswa jangan sombong dong . kas...  negative"
      ]
     },
     "execution_count": 26,
     "metadata": {},
     "output_type": "execute_result"
    }
   ],
   "source": [
    "df = pd.read_table(\"train_preprocess.tsv.txt\", header=None)\n",
    "alay = pd.read_csv('new_kamusalay.csv' , encoding=\"latin-1\", header=None)\n",
    "alay_dict = dict(zip(alay[0], alay[1]))\n",
    "df.head()"
   ]
  },
  {
   "cell_type": "code",
   "execution_count": 27,
   "id": "e0cf9a1a",
   "metadata": {
    "ExecuteTime": {
     "end_time": "2023-03-05T15:01:26.809722Z",
     "start_time": "2023-03-05T15:01:26.797214Z"
    }
   },
   "outputs": [],
   "source": [
    "def hurufkecil(text):\n",
    "    return text.lower()\n",
    "\n",
    "def cleaningemoji(text):\n",
    "    text = re.sub('\\w*\\d\\w*', '', text)\n",
    "    return text\n",
    "\n",
    "def cleaningpertama(text):\n",
    "    re.sub(r'[^a-zA-Z0-9]', ' ', text)\n",
    "    text = re.sub('  +', ' ', text)\n",
    "    return text\n",
    "\n",
    "def cleaningkedua(text):\n",
    "    text = re.sub('[^0-9a-zA-Z]+', ' ', text) \n",
    "    return text\n",
    "\n",
    "def gantikataalay(text):\n",
    "    return ' '.join([alay_dict[word] if word in alay_dict else word for word in text.split(' ')])\n"
   ]
  },
  {
   "cell_type": "code",
   "execution_count": 28,
   "id": "972d6b21",
   "metadata": {
    "ExecuteTime": {
     "end_time": "2023-03-05T15:01:27.298335Z",
     "start_time": "2023-03-05T15:01:27.281331Z"
    }
   },
   "outputs": [],
   "source": [
    "def semua_fungsi_API(text):\n",
    "    text = hurufkecil(text)\n",
    "    text = cleaningemoji(text)\n",
    "    text = cleaningpertama(text)\n",
    "    text = cleaningkedua(text)\n",
    "    text = gantikataalay(text)\n",
    "    return text"
   ]
  },
  {
   "cell_type": "code",
   "execution_count": 29,
   "id": "0bf59614",
   "metadata": {
    "ExecuteTime": {
     "end_time": "2023-03-05T15:01:28.644842Z",
     "start_time": "2023-03-05T15:01:27.799309Z"
    }
   },
   "outputs": [],
   "source": [
    "df[0] = df[0].apply(semua_fungsi_API)"
   ]
  },
  {
   "cell_type": "code",
   "execution_count": 30,
   "id": "e545f1a7",
   "metadata": {
    "ExecuteTime": {
     "end_time": "2023-03-05T15:01:30.442846Z",
     "start_time": "2023-03-05T15:01:30.414736Z"
    }
   },
   "outputs": [
    {
     "data": {
      "text/plain": [
       "((8800,), (2200,), (8800,), (2200,))"
      ]
     },
     "execution_count": 30,
     "metadata": {},
     "output_type": "execute_result"
    }
   ],
   "source": [
    "X = df[0]\n",
    "y = df[1]\n",
    "\n",
    "X_train, X_test, y_train, y_test = train_test_split(X, y, test_size=0.2, stratify=y, random_state=42)\n",
    "X_train.shape, X_test.shape, y_train.shape, y_test.shape"
   ]
  },
  {
   "cell_type": "code",
   "execution_count": 31,
   "id": "d67a876c",
   "metadata": {
    "ExecuteTime": {
     "end_time": "2023-03-05T15:01:31.939269Z",
     "start_time": "2023-03-05T15:01:31.786034Z"
    }
   },
   "outputs": [],
   "source": [
    "from sklearn.neural_network import MLPClassifier\n",
    "from sklearn.feature_extraction.text import CountVectorizer, TfidfVectorizer\n",
    "from sklearn.svm import SVC\n",
    "from sklearn.model_selection import RandomizedSearchCV\n",
    "from jcopml.tuning import random_search_params as rsp\n",
    "from nltk.tokenize import word_tokenize\n",
    "from nltk.corpus import stopwords\n",
    "from string import punctuation\n",
    "\n",
    "sw_indo = stopwords.words('indonesian') + list(punctuation)"
   ]
  },
  {
   "cell_type": "code",
   "execution_count": 22,
   "id": "47536e35",
   "metadata": {
    "ExecuteTime": {
     "end_time": "2023-03-03T14:59:25.450054Z",
     "start_time": "2023-03-03T13:53:54.519809Z"
    },
    "scrolled": true
   },
   "outputs": [
    {
     "name": "stdout",
     "output_type": "stream",
     "text": [
      "Fitting 3 folds for each of 10 candidates, totalling 30 fits\n",
      "Iteration 1, loss = 0.57974328\n",
      "Iteration 2, loss = 0.06836440\n",
      "Iteration 3, loss = 0.01216517\n",
      "Iteration 4, loss = 0.00519773\n",
      "Iteration 5, loss = 0.00342628\n",
      "Iteration 6, loss = 0.00268707\n",
      "Iteration 7, loss = 0.00226178\n",
      "Iteration 8, loss = 0.00199011\n",
      "Iteration 9, loss = 0.00179600\n",
      "Iteration 10, loss = 0.00164603\n",
      "Iteration 11, loss = 0.00152717\n",
      "Iteration 12, loss = 0.00142916\n",
      "Iteration 13, loss = 0.00134560\n",
      "Iteration 14, loss = 0.00127440\n",
      "Iteration 15, loss = 0.00121133\n",
      "Iteration 16, loss = 0.00115498\n",
      "Iteration 17, loss = 0.00110432\n",
      "Iteration 18, loss = 0.00105839\n",
      "Iteration 19, loss = 0.00101611\n",
      "Iteration 20, loss = 0.00097706\n",
      "Iteration 21, loss = 0.00094110\n",
      "Iteration 22, loss = 0.00090736\n",
      "Training loss did not improve more than tol=0.000100 for 10 consecutive epochs. Stopping.\n",
      "{'mlp__learning_rate_init': 0.005, 'mlp__hidden_layer_sizes': (32, 16), 'mlp__alpha': 0.0001, 'mlp__activation': 'tanh'}\n",
      "1.0 0.8698155740087133 0.8886486429342595\n"
     ]
    }
   ],
   "source": [
    "pipeline = Pipeline([\n",
    "    ('prep', TfidfVectorizer(tokenizer=word_tokenize , ngram_range=(1,2))),\n",
    "    ('mlp', MLPClassifier(random_state=42, verbose=1))\n",
    "])\n",
    "\n",
    "parameter = {\n",
    "    \"mlp__alpha\": [0.0001, 0.0003, 0.001, 0.003],\n",
    "    \"mlp__hidden_layer_sizes\": [(16,), (32, 16), (32, 16, 8)],\n",
    "    \"mlp__learning_rate_init\": [0.001, 0.005, 0.01],\n",
    "    \"mlp__activation\": [\"relu\", \"logistic\", \"tanh\"]\n",
    "}\n",
    "\n",
    "model = RandomizedSearchCV(pipeline, parameter, cv=3,scoring='f1_weighted', n_jobs=-1, verbose=1)\n",
    "model.fit(X_train, y_train)\n",
    "\n",
    "print(model.best_params_)\n",
    "print(model.score(X_train, y_train), model.best_score_, model.score(X_test, y_test))"
   ]
  },
  {
   "cell_type": "code",
   "execution_count": 23,
   "id": "8e723d8d",
   "metadata": {
    "ExecuteTime": {
     "end_time": "2023-03-03T15:02:00.217836Z",
     "start_time": "2023-03-03T15:01:59.938597Z"
    }
   },
   "outputs": [
    {
     "name": "stdout",
     "output_type": "stream",
     "text": [
      "Model is pickled as model/MLPCPlatinumTfidf0.88%.pkl\n"
     ]
    }
   ],
   "source": [
    "save_model(model, \"MLPCPlatinumTfidf0.88%.pkl\")"
   ]
  },
  {
   "cell_type": "code",
   "execution_count": 32,
   "id": "d32d6f09",
   "metadata": {
    "ExecuteTime": {
     "end_time": "2023-03-05T15:01:36.955503Z",
     "start_time": "2023-03-05T15:01:36.831770Z"
    }
   },
   "outputs": [],
   "source": [
    "model = load_model('MLPCPlatinumTfidf0.88%.pkl')"
   ]
  },
  {
   "cell_type": "code",
   "execution_count": 33,
   "id": "2f6232c8",
   "metadata": {
    "ExecuteTime": {
     "end_time": "2023-03-05T15:01:39.015548Z",
     "start_time": "2023-03-05T15:01:38.245345Z"
    }
   },
   "outputs": [
    {
     "data": {
      "text/plain": [
       "array(['negative', 'positive', 'positive', ..., 'negative', 'positive',\n",
       "       'positive'], dtype='<U8')"
      ]
     },
     "execution_count": 33,
     "metadata": {},
     "output_type": "execute_result"
    }
   ],
   "source": [
    "pred = model.predict(X_test)\n",
    "pred"
   ]
  },
  {
   "cell_type": "code",
   "execution_count": 34,
   "id": "994dfa84",
   "metadata": {
    "ExecuteTime": {
     "end_time": "2023-03-05T15:01:39.715724Z",
     "start_time": "2023-03-05T15:01:39.702705Z"
    }
   },
   "outputs": [],
   "source": [
    "from sklearn.metrics import confusion_matrix, ConfusionMatrixDisplay\n",
    "from sklearn import metrics\n",
    "import matplotlib.pyplot as plt"
   ]
  },
  {
   "cell_type": "code",
   "execution_count": 35,
   "id": "20bac0c1",
   "metadata": {
    "ExecuteTime": {
     "end_time": "2023-03-05T15:01:40.422614Z",
     "start_time": "2023-03-05T15:01:40.407240Z"
    }
   },
   "outputs": [],
   "source": [
    "confusion_matrix = metrics.confusion_matrix(y_test, pred)"
   ]
  },
  {
   "cell_type": "code",
   "execution_count": 36,
   "id": "91c8cc3d",
   "metadata": {
    "ExecuteTime": {
     "end_time": "2023-03-05T15:01:41.657392Z",
     "start_time": "2023-03-05T15:01:41.257126Z"
    }
   },
   "outputs": [
    {
     "data": {
      "image/png": "[encoded data removed]",
      "text/plain": [
       "<Figure size 640x480 with 2 Axes>"
      ]
     },
     "metadata": {},
     "output_type": "display_data"
    }
   ],
   "source": [
    "cm_display =ConfusionMatrixDisplay(confusion_matrix=confusion_matrix, display_labels = ['Negative', 'Neutral','Positive'])\n",
    "cm_display.plot()\n",
    "plt.show()"
   ]
  },
  {
   "cell_type": "code",
   "execution_count": 37,
   "id": "839de78f",
   "metadata": {
    "ExecuteTime": {
     "end_time": "2023-03-05T15:02:20.747089Z",
     "start_time": "2023-03-05T15:02:20.731953Z"
    }
   },
   "outputs": [],
   "source": [
    "from sklearn.metrics import classification_report"
   ]
  },
  {
   "cell_type": "code",
   "execution_count": 38,
   "id": "a840c5f7",
   "metadata": {
    "ExecuteTime": {
     "end_time": "2023-03-05T15:02:43.803579Z",
     "start_time": "2023-03-05T15:02:43.744076Z"
    }
   },
   "outputs": [
    {
     "name": "stdout",
     "output_type": "stream",
     "text": [
      "              precision    recall  f1-score   support\n",
      "\n",
      "    negative       0.85      0.85      0.85       687\n",
      "     neutral       0.90      0.72      0.80       230\n",
      "    positive       0.91      0.94      0.93      1283\n",
      "\n",
      "    accuracy                           0.89      2200\n",
      "   macro avg       0.89      0.84      0.86      2200\n",
      "weighted avg       0.89      0.89      0.89      2200\n",
      "\n"
     ]
    }
   ],
   "source": [
    "print(classification_report(y_test, pred))"
   ]
  },
  {
   "cell_type": "code",
   "execution_count": null,
   "id": "73c1b6cb",
   "metadata": {},
   "outputs": [],
   "source": []
  }
 ],
 "metadata": {
  "kernelspec": {
   "display_name": "Python 3 (ipykernel)",
   "language": "python",
   "name": "python3"
  },
  "language_info": {
   "codemirror_mode": {
    "name": "ipython",
    "version": 3
   },
   "file_extension": ".py",
   "mimetype": "text/x-python",
   "name": "python",
   "nbconvert_exporter": "python",
   "pygments_lexer": "ipython3",
   "version": "3.9.13"
  },
  "varInspector": {
   "cols": {
    "lenName": 16,
    "lenType": 16,
    "lenVar": 40
   },
   "kernels_config": {
    "python": {
     "delete_cmd_postfix": "",
     "delete_cmd_prefix": "del ",
     "library": "var_list.py",
     "varRefreshCmd": "print(var_dic_list())"
    },
    "r": {
     "delete_cmd_postfix": ") ",
     "delete_cmd_prefix": "rm(",
     "library": "var_list.r",
     "varRefreshCmd": "cat(var_dic_list()) "
    }
   },
   "types_to_exclude": [
    "module",
    "function",
    "builtin_function_or_method",
    "instance",
    "_Feature"
   ],
   "window_display": false
  }
 },
 "nbformat": 4,
 "nbformat_minor": 5
}
