{
 "cells": [
  {
   "cell_type": "code",
   "execution_count": 6,
   "id": "a76c18da",
   "metadata": {
    "ExecuteTime": {
     "end_time": "2023-03-04T17:46:29.750092Z",
     "start_time": "2023-03-04T17:46:29.739080Z"
    }
   },
   "outputs": [],
   "source": [
    "import pandas as pd\n",
    "import numpy as np\n",
    "import re\n",
    "from data_utils import DocumentSentimentDataset, DocumentSentimentDataLoader\n",
    "from transformers import BertForSequenceClassification, BertConfig, BertTokenizer\n",
    "import torch\n",
    "import tqdm"
   ]
  },
  {
   "cell_type": "code",
   "execution_count": 8,
   "id": "830a00c2",
   "metadata": {
    "ExecuteTime": {
     "end_time": "2023-03-04T17:46:37.272962Z",
     "start_time": "2023-03-04T17:46:37.259997Z"
    }
   },
   "outputs": [],
   "source": [
    "import random\n",
    "import numpy as np\n",
    "import pandas as pd\n",
    "import torch\n",
    "from torch import optim\n",
    "import torch.nn.functional as F\n",
    "from tqdm import tqdm\n",
    "\n",
    "from transformers import BertForSequenceClassification, BertConfig, BertTokenizer\n",
    "from nltk.tokenize import TweetTokenizer\n",
    "from forward_fn import forward_sequence_classification"
   ]
  },
  {
   "cell_type": "code",
   "execution_count": 43,
   "id": "7f132530",
   "metadata": {
    "ExecuteTime": {
     "end_time": "2023-03-04T18:20:46.228755Z",
     "start_time": "2023-03-04T18:20:46.216752Z"
    }
   },
   "outputs": [],
   "source": [
    "pd.set_option('display.max_colwidth', 1000)"
   ]
  },
  {
   "cell_type": "code",
   "execution_count": 9,
   "id": "1706e701",
   "metadata": {
    "ExecuteTime": {
     "end_time": "2023-03-04T17:46:49.185196Z",
     "start_time": "2023-03-04T17:46:49.170236Z"
    }
   },
   "outputs": [],
   "source": [
    "###\n",
    "# common functions\n",
    "###\n",
    "def set_seed(seed):\n",
    "    random.seed(seed)\n",
    "    np.random.seed(seed)\n",
    "    torch.manual_seed(seed)\n",
    "    torch.cuda.manual_seed(seed)\n",
    "    \n",
    "def count_param(module, trainable=False):\n",
    "    if trainable:\n",
    "        return sum(p.numel() for p in module.parameters() if p.requires_grad)\n",
    "    else:\n",
    "        return sum(p.numel() for p in module.parameters())\n",
    "    \n",
    "def get_lr(optimizer):\n",
    "    for param_group in optimizer.param_groups:\n",
    "        return param_group['lr']\n",
    "\n",
    "def metrics_to_string(metric_dict):\n",
    "    string_list = []\n",
    "    for key, value in metric_dict.items():\n",
    "        string_list.append('{}:{:.2f}'.format(key, value))\n",
    "    return ' '.join(string_list)"
   ]
  },
  {
   "cell_type": "code",
   "execution_count": 10,
   "id": "15abf02c",
   "metadata": {
    "ExecuteTime": {
     "end_time": "2023-03-04T17:47:01.656268Z",
     "start_time": "2023-03-04T17:47:01.648265Z"
    }
   },
   "outputs": [],
   "source": [
    "set_seed(26092020)"
   ]
  },
  {
   "cell_type": "code",
   "execution_count": 11,
   "id": "c9d70e6a",
   "metadata": {
    "ExecuteTime": {
     "end_time": "2023-03-04T17:48:01.696256Z",
     "start_time": "2023-03-04T17:47:57.905380Z"
    }
   },
   "outputs": [],
   "source": [
    "tokenizer = BertTokenizer.from_pretrained('indobenchmark/indobert-base-p1')\n",
    "config = BertConfig.from_pretrained(\"config.json\")\n",
    "config.num_labels = DocumentSentimentDataset.NUM_LABELS\n",
    "\n",
    "model = BertForSequenceClassification.from_pretrained(\"pytorch_model.bin\", config=config)\n",
    "\n",
    "w2i, i2w = DocumentSentimentDataset.LABEL2INDEX, DocumentSentimentDataset.INDEX2LABEL"
   ]
  },
  {
   "cell_type": "code",
   "execution_count": 12,
   "id": "314f4063",
   "metadata": {
    "ExecuteTime": {
     "end_time": "2023-03-04T17:48:30.352280Z",
     "start_time": "2023-03-04T17:48:30.300418Z"
    }
   },
   "outputs": [],
   "source": [
    "test_dataset = DocumentSentimentDataset('df_bert.tsv', tokenizer, lowercase=True)\n",
    "test_loader = DocumentSentimentDataLoader(dataset=test_dataset, max_seq_len=512, batch_size=4, num_workers=0, shuffle=False)"
   ]
  },
  {
   "cell_type": "code",
   "execution_count": 13,
   "id": "bff5892d",
   "metadata": {
    "ExecuteTime": {
     "end_time": "2023-03-04T18:05:12.806830Z",
     "start_time": "2023-03-04T17:48:39.387366Z"
    }
   },
   "outputs": [
    {
     "name": "stderr",
     "output_type": "stream",
     "text": [
      "100%|██████████████████████████████████████████████████████████████████████████████| 3293/3293 [16:33<00:00,  3.31it/s]\n"
     ]
    }
   ],
   "source": [
    "model.eval()\n",
    "torch.set_grad_enabled(False)\n",
    "\n",
    "total_loss, total_correct, total_labels = 0, 0, 0\n",
    "list_hyp, list_label = [], []\n",
    "\n",
    "pbar = tqdm(test_loader, leave=True, total=len(test_loader))\n",
    "for i, batch_data in enumerate(pbar):\n",
    "    _, batch_hyp, _ = forward_sequence_classification(model, batch_data[:-1], i2w=i2w, device='cpu')\n",
    "    list_hyp += batch_hyp"
   ]
  },
  {
   "cell_type": "code",
   "execution_count": 16,
   "id": "0a18cffe",
   "metadata": {
    "ExecuteTime": {
     "end_time": "2023-03-04T18:08:22.503812Z",
     "start_time": "2023-03-04T18:08:22.447961Z"
    }
   },
   "outputs": [],
   "source": [
    "df = pd.DataFrame({'label':list_hyp}).reset_index()\n",
    "df.to_csv('pred_BERT.txt', index=False)"
   ]
  },
  {
   "cell_type": "code",
   "execution_count": 19,
   "id": "5f94a631",
   "metadata": {
    "ExecuteTime": {
     "end_time": "2023-03-04T18:09:22.116901Z",
     "start_time": "2023-03-04T18:09:22.083988Z"
    },
    "scrolled": true
   },
   "outputs": [
    {
     "data": {
      "text/html": [
       "<div>\n",
       "<style scoped>\n",
       "    .dataframe tbody tr th:only-of-type {\n",
       "        vertical-align: middle;\n",
       "    }\n",
       "\n",
       "    .dataframe tbody tr th {\n",
       "        vertical-align: top;\n",
       "    }\n",
       "\n",
       "    .dataframe thead th {\n",
       "        text-align: right;\n",
       "    }\n",
       "</style>\n",
       "<table border=\"1\" class=\"dataframe\">\n",
       "  <thead>\n",
       "    <tr style=\"text-align: right;\">\n",
       "      <th></th>\n",
       "      <th>index</th>\n",
       "      <th>label</th>\n",
       "    </tr>\n",
       "  </thead>\n",
       "  <tbody>\n",
       "    <tr>\n",
       "      <th>0</th>\n",
       "      <td>0</td>\n",
       "      <td>negative</td>\n",
       "    </tr>\n",
       "    <tr>\n",
       "      <th>1</th>\n",
       "      <td>1</td>\n",
       "      <td>negative</td>\n",
       "    </tr>\n",
       "    <tr>\n",
       "      <th>2</th>\n",
       "      <td>2</td>\n",
       "      <td>negative</td>\n",
       "    </tr>\n",
       "    <tr>\n",
       "      <th>3</th>\n",
       "      <td>3</td>\n",
       "      <td>negative</td>\n",
       "    </tr>\n",
       "    <tr>\n",
       "      <th>4</th>\n",
       "      <td>4</td>\n",
       "      <td>negative</td>\n",
       "    </tr>\n",
       "  </tbody>\n",
       "</table>\n",
       "</div>"
      ],
      "text/plain": [
       "   index     label\n",
       "0      0  negative\n",
       "1      1  negative\n",
       "2      2  negative\n",
       "3      3  negative\n",
       "4      4  negative"
      ]
     },
     "execution_count": 19,
     "metadata": {},
     "output_type": "execute_result"
    }
   ],
   "source": [
    "pred_bred = pd.read_csv('pred_BERT.txt')\n",
    "pred_bred.head()"
   ]
  },
  {
   "cell_type": "code",
   "execution_count": 33,
   "id": "db890527",
   "metadata": {
    "ExecuteTime": {
     "end_time": "2023-03-04T18:13:57.823688Z",
     "start_time": "2023-03-04T18:13:57.774816Z"
    }
   },
   "outputs": [
    {
     "data": {
      "text/html": [
       "<div>\n",
       "<style scoped>\n",
       "    .dataframe tbody tr th:only-of-type {\n",
       "        vertical-align: middle;\n",
       "    }\n",
       "\n",
       "    .dataframe tbody tr th {\n",
       "        vertical-align: top;\n",
       "    }\n",
       "\n",
       "    .dataframe thead th {\n",
       "        text-align: right;\n",
       "    }\n",
       "</style>\n",
       "<table border=\"1\" class=\"dataframe\">\n",
       "  <thead>\n",
       "    <tr style=\"text-align: right;\">\n",
       "      <th></th>\n",
       "      <th>0</th>\n",
       "      <th>1</th>\n",
       "    </tr>\n",
       "  </thead>\n",
       "  <tbody>\n",
       "    <tr>\n",
       "      <th>0</th>\n",
       "      <td>siapa yang telat memberi tau kamu edan sarap ...</td>\n",
       "      <td>negative</td>\n",
       "    </tr>\n",
       "    <tr>\n",
       "      <th>1</th>\n",
       "      <td>di saat semua cowok berusaha melacak perhatia...</td>\n",
       "      <td>negative</td>\n",
       "    </tr>\n",
       "    <tr>\n",
       "      <th>2</th>\n",
       "      <td>siapa yang telat memberi tau kamu edan sarap ...</td>\n",
       "      <td>negative</td>\n",
       "    </tr>\n",
       "    <tr>\n",
       "      <th>3</th>\n",
       "      <td>kadang aku berpikir kenapa aku tetap percaya ...</td>\n",
       "      <td>negative</td>\n",
       "    </tr>\n",
       "    <tr>\n",
       "      <th>4</th>\n",
       "      <td>aku itu aku dan ku tau matamu sipit tapi dili...</td>\n",
       "      <td>negative</td>\n",
       "    </tr>\n",
       "  </tbody>\n",
       "</table>\n",
       "</div>"
      ],
      "text/plain": [
       "                                                   0         1\n",
       "0   siapa yang telat memberi tau kamu edan sarap ...  negative\n",
       "1   di saat semua cowok berusaha melacak perhatia...  negative\n",
       "2   siapa yang telat memberi tau kamu edan sarap ...  negative\n",
       "3   kadang aku berpikir kenapa aku tetap percaya ...  negative\n",
       "4   aku itu aku dan ku tau matamu sipit tapi dili...  negative"
      ]
     },
     "execution_count": 33,
     "metadata": {},
     "output_type": "execute_result"
    }
   ],
   "source": [
    "df = pd.read_csv('df_bert.tsv', sep='\\t', header=None)\n",
    "df.head()"
   ]
  },
  {
   "cell_type": "code",
   "execution_count": 35,
   "id": "2bc9c5dd",
   "metadata": {
    "ExecuteTime": {
     "end_time": "2023-03-04T18:14:39.526910Z",
     "start_time": "2023-03-04T18:14:39.509955Z"
    }
   },
   "outputs": [
    {
     "data": {
      "text/html": [
       "<div>\n",
       "<style scoped>\n",
       "    .dataframe tbody tr th:only-of-type {\n",
       "        vertical-align: middle;\n",
       "    }\n",
       "\n",
       "    .dataframe tbody tr th {\n",
       "        vertical-align: top;\n",
       "    }\n",
       "\n",
       "    .dataframe thead th {\n",
       "        text-align: right;\n",
       "    }\n",
       "</style>\n",
       "<table border=\"1\" class=\"dataframe\">\n",
       "  <thead>\n",
       "    <tr style=\"text-align: right;\">\n",
       "      <th></th>\n",
       "      <th>0</th>\n",
       "      <th>1</th>\n",
       "      <th>label</th>\n",
       "    </tr>\n",
       "  </thead>\n",
       "  <tbody>\n",
       "    <tr>\n",
       "      <th>10867</th>\n",
       "      <td>mungkin ilmu agama anda sangat luas amp saleh...</td>\n",
       "      <td>negative</td>\n",
       "      <td>positive</td>\n",
       "    </tr>\n",
       "    <tr>\n",
       "      <th>2100</th>\n",
       "      <td>dan ya berhasil memanipulasi cerita dan menja...</td>\n",
       "      <td>negative</td>\n",
       "      <td>negative</td>\n",
       "    </tr>\n",
       "    <tr>\n",
       "      <th>2648</th>\n",
       "      <td>maju kamu sini babi</td>\n",
       "      <td>negative</td>\n",
       "      <td>negative</td>\n",
       "    </tr>\n",
       "    <tr>\n",
       "      <th>3272</th>\n",
       "      <td>kata ulama barang siapa yang tidak bersedia am...</td>\n",
       "      <td>positive</td>\n",
       "      <td>negative</td>\n",
       "    </tr>\n",
       "    <tr>\n",
       "      <th>6057</th>\n",
       "      <td>antara teratur dan diri dan seikhlasnya cewek...</td>\n",
       "      <td>negative</td>\n",
       "      <td>negative</td>\n",
       "    </tr>\n",
       "  </tbody>\n",
       "</table>\n",
       "</div>"
      ],
      "text/plain": [
       "                                                       0         1     label\n",
       "10867   mungkin ilmu agama anda sangat luas amp saleh...  negative  positive\n",
       "2100    dan ya berhasil memanipulasi cerita dan menja...  negative  negative\n",
       "2648                                maju kamu sini babi   negative  negative\n",
       "3272   kata ulama barang siapa yang tidak bersedia am...  positive  negative\n",
       "6057    antara teratur dan diri dan seikhlasnya cewek...  negative  negative"
      ]
     },
     "execution_count": 35,
     "metadata": {},
     "output_type": "execute_result"
    }
   ],
   "source": [
    "data = pd.concat((df,pred_bred), axis=1)\n",
    "data.sample(5)"
   ]
  },
  {
   "cell_type": "code",
   "execution_count": 37,
   "id": "fc3daa7e",
   "metadata": {
    "ExecuteTime": {
     "end_time": "2023-03-04T18:17:24.945154Z",
     "start_time": "2023-03-04T18:17:24.931189Z"
    }
   },
   "outputs": [],
   "source": [
    "data.drop(columns=1, inplace=True)"
   ]
  },
  {
   "cell_type": "code",
   "execution_count": 39,
   "id": "e53dc51d",
   "metadata": {
    "ExecuteTime": {
     "end_time": "2023-03-04T18:17:54.200671Z",
     "start_time": "2023-03-04T18:17:54.186668Z"
    }
   },
   "outputs": [],
   "source": [
    "data.columns = ['Tweet','Sentiment']"
   ]
  },
  {
   "cell_type": "code",
   "execution_count": 45,
   "id": "f9aea687",
   "metadata": {
    "ExecuteTime": {
     "end_time": "2023-03-04T18:21:11.448371Z",
     "start_time": "2023-03-04T18:21:11.427425Z"
    }
   },
   "outputs": [
    {
     "data": {
      "text/html": [
       "<div>\n",
       "<style scoped>\n",
       "    .dataframe tbody tr th:only-of-type {\n",
       "        vertical-align: middle;\n",
       "    }\n",
       "\n",
       "    .dataframe tbody tr th {\n",
       "        vertical-align: top;\n",
       "    }\n",
       "\n",
       "    .dataframe thead th {\n",
       "        text-align: right;\n",
       "    }\n",
       "</style>\n",
       "<table border=\"1\" class=\"dataframe\">\n",
       "  <thead>\n",
       "    <tr style=\"text-align: right;\">\n",
       "      <th></th>\n",
       "      <th>Tweet</th>\n",
       "      <th>Sentiment</th>\n",
       "    </tr>\n",
       "  </thead>\n",
       "  <tbody>\n",
       "    <tr>\n",
       "      <th>4739</th>\n",
       "      <td>urut berduka atas matinya ketidak keadilan dan kezaliman rezim ini</td>\n",
       "      <td>negative</td>\n",
       "    </tr>\n",
       "    <tr>\n",
       "      <th>8050</th>\n",
       "      <td>ternyata indonesia sudah jadi anggota negara persemakmuran cina iya yang makmur cinanya</td>\n",
       "      <td>positive</td>\n",
       "    </tr>\n",
       "    <tr>\n",
       "      <th>10316</th>\n",
       "      <td>raja ampat dan papua khususnya bagian barat banyak sekali orang maluku jadi budaya juga dibawa pembangunan dan penyebaran agama kristen di papua sepengetahuan saya ikut dipengaruhi orang maluku ambon karena kami dekat dengan orang bel</td>\n",
       "      <td>positive</td>\n",
       "    </tr>\n",
       "    <tr>\n",
       "      <th>10045</th>\n",
       "      <td>lupa ya ini malam jum at habis memencarkan tuyul dong</td>\n",
       "      <td>negative</td>\n",
       "    </tr>\n",
       "    <tr>\n",
       "      <th>11973</th>\n",
       "      <td>makanya rakyat juga sudah tidak sabar ingin lengserkan tapi para tokoh negeri pada takut sama santet jokowi dicari tokoh nasional yang berani</td>\n",
       "      <td>negative</td>\n",
       "    </tr>\n",
       "    <tr>\n",
       "      <th>5507</th>\n",
       "      <td>masyaallah demi kelangsungan legasi islam yang benar pas dan umno lupakan perbedaan politik semakin parah sudah nih lgbt sudah menular teruk dan jakim dan pas dan umno dan dan</td>\n",
       "      <td>negative</td>\n",
       "    </tr>\n",
       "    <tr>\n",
       "      <th>11612</th>\n",
       "      <td>betul bang nanti kumpulan manusia songong itu mengklaim merasa paling pintar dan hebat buat jakarta gerombolan kampretttt nasi bungkus dan kencing onta</td>\n",
       "      <td>negative</td>\n",
       "    </tr>\n",
       "    <tr>\n",
       "      <th>9814</th>\n",
       "      <td>saya suka nakal memang sih memojok</td>\n",
       "      <td>negative</td>\n",
       "    </tr>\n",
       "    <tr>\n",
       "      <th>4553</th>\n",
       "      <td>lah itu dan kamu bunda geblek</td>\n",
       "      <td>negative</td>\n",
       "    </tr>\n",
       "    <tr>\n",
       "      <th>1335</th>\n",
       "      <td>perbedaan tidak menghalangi kami untuk berteman read dari kiri agama katolik islam buddha vscocam</td>\n",
       "      <td>neutral</td>\n",
       "    </tr>\n",
       "  </tbody>\n",
       "</table>\n",
       "</div>"
      ],
      "text/plain": [
       "                                                                                                                                                                                                                                             Tweet  \\\n",
       "4739                                                                                                                                                                           urut berduka atas matinya ketidak keadilan dan kezaliman rezim ini    \n",
       "8050                                                                                                                                                       ternyata indonesia sudah jadi anggota negara persemakmuran cina iya yang makmur cinanya   \n",
       "10316   raja ampat dan papua khususnya bagian barat banyak sekali orang maluku jadi budaya juga dibawa pembangunan dan penyebaran agama kristen di papua sepengetahuan saya ikut dipengaruhi orang maluku ambon karena kami dekat dengan orang bel   \n",
       "10045                                                                                                                                                                                       lupa ya ini malam jum at habis memencarkan tuyul dong    \n",
       "11973                                                                                                makanya rakyat juga sudah tidak sabar ingin lengserkan tapi para tokoh negeri pada takut sama santet jokowi dicari tokoh nasional yang berani   \n",
       "5507                                                              masyaallah demi kelangsungan legasi islam yang benar pas dan umno lupakan perbedaan politik semakin parah sudah nih lgbt sudah menular teruk dan jakim dan pas dan umno dan dan    \n",
       "11612                                                                                     betul bang nanti kumpulan manusia songong itu mengklaim merasa paling pintar dan hebat buat jakarta gerombolan kampretttt nasi bungkus dan kencing onta    \n",
       "9814                                                                                                                                                                                                            saya suka nakal memang sih memojok   \n",
       "4553                                                                                                                                                                                                                lah itu dan kamu bunda geblek    \n",
       "1335                                                                                                                                             perbedaan tidak menghalangi kami untuk berteman read dari kiri agama katolik islam buddha vscocam   \n",
       "\n",
       "      Sentiment  \n",
       "4739   negative  \n",
       "8050   positive  \n",
       "10316  positive  \n",
       "10045  negative  \n",
       "11973  negative  \n",
       "5507   negative  \n",
       "11612  negative  \n",
       "9814   negative  \n",
       "4553   negative  \n",
       "1335    neutral  "
      ]
     },
     "execution_count": 45,
     "metadata": {},
     "output_type": "execute_result"
    }
   ],
   "source": [
    "data.sample(10)"
   ]
  },
  {
   "cell_type": "code",
   "execution_count": 42,
   "id": "5843324d",
   "metadata": {
    "ExecuteTime": {
     "end_time": "2023-03-04T18:20:02.110635Z",
     "start_time": "2023-03-04T18:20:00.999248Z"
    }
   },
   "outputs": [
    {
     "data": {
      "image/png": "[encoded data removed]",
      "text/plain": [
       "<Figure size 640x480 with 1 Axes>"
      ]
     },
     "metadata": {},
     "output_type": "display_data"
    }
   ],
   "source": [
    "ax = data.Sentiment.value_counts().plot(kind='bar')\n",
    "for i in ax.containers:\n",
    "    ax.bar_label(i)"
   ]
  }
 ],
 "metadata": {
  "kernelspec": {
   "display_name": "Python 3 (ipykernel)",
   "language": "python",
   "name": "python3"
  },
  "language_info": {
   "codemirror_mode": {
    "name": "ipython",
    "version": 3
   },
   "file_extension": ".py",
   "mimetype": "text/x-python",
   "name": "python",
   "nbconvert_exporter": "python",
   "pygments_lexer": "ipython3",
   "version": "3.9.13"
  },
  "varInspector": {
   "cols": {
    "lenName": 16,
    "lenType": 16,
    "lenVar": 40
   },
   "kernels_config": {
    "python": {
     "delete_cmd_postfix": "",
     "delete_cmd_prefix": "del ",
     "library": "var_list.py",
     "varRefreshCmd": "print(var_dic_list())"
    },
    "r": {
     "delete_cmd_postfix": ") ",
     "delete_cmd_prefix": "rm(",
     "library": "var_list.r",
     "varRefreshCmd": "cat(var_dic_list()) "
    }
   },
   "types_to_exclude": [
    "module",
    "function",
    "builtin_function_or_method",
    "instance",
    "_Feature"
   ],
   "window_display": false
  }
 },
 "nbformat": 4,
 "nbformat_minor": 5
}
