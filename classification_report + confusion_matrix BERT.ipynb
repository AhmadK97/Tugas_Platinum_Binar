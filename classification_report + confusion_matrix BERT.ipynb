{
 "cells": [
  {
   "cell_type": "code",
   "execution_count": 9,
   "id": "8d6495ca",
   "metadata": {
    "ExecuteTime": {
     "end_time": "2023-03-04T18:32:34.746624Z",
     "start_time": "2023-03-04T18:32:34.731666Z"
    }
   },
   "outputs": [],
   "source": [
    "from sklearn import metrics\n",
    "import pandas as pd\n",
    "import numpy as np\n",
    "import re\n",
    "import matplotlib.pyplot as plt\n",
    "import seaborn"
   ]
  },
  {
   "cell_type": "code",
   "execution_count": 10,
   "id": "771d5f20",
   "metadata": {
    "ExecuteTime": {
     "end_time": "2023-03-04T18:32:36.384251Z",
     "start_time": "2023-03-04T18:32:36.371325Z"
    }
   },
   "outputs": [
    {
     "data": {
      "text/html": [
       "<div>\n",
       "<style scoped>\n",
       "    .dataframe tbody tr th:only-of-type {\n",
       "        vertical-align: middle;\n",
       "    }\n",
       "\n",
       "    .dataframe tbody tr th {\n",
       "        vertical-align: top;\n",
       "    }\n",
       "\n",
       "    .dataframe thead th {\n",
       "        text-align: right;\n",
       "    }\n",
       "</style>\n",
       "<table border=\"1\" class=\"dataframe\">\n",
       "  <thead>\n",
       "    <tr style=\"text-align: right;\">\n",
       "      <th></th>\n",
       "      <th>index</th>\n",
       "      <th>label</th>\n",
       "    </tr>\n",
       "  </thead>\n",
       "  <tbody>\n",
       "    <tr>\n",
       "      <th>0</th>\n",
       "      <td>0</td>\n",
       "      <td>positive</td>\n",
       "    </tr>\n",
       "    <tr>\n",
       "      <th>1</th>\n",
       "      <td>1</td>\n",
       "      <td>positive</td>\n",
       "    </tr>\n",
       "    <tr>\n",
       "      <th>2</th>\n",
       "      <td>2</td>\n",
       "      <td>negative</td>\n",
       "    </tr>\n",
       "    <tr>\n",
       "      <th>3</th>\n",
       "      <td>3</td>\n",
       "      <td>positive</td>\n",
       "    </tr>\n",
       "    <tr>\n",
       "      <th>4</th>\n",
       "      <td>4</td>\n",
       "      <td>negative</td>\n",
       "    </tr>\n",
       "  </tbody>\n",
       "</table>\n",
       "</div>"
      ],
      "text/plain": [
       "   index     label\n",
       "0      0  positive\n",
       "1      1  positive\n",
       "2      2  negative\n",
       "3      3  positive\n",
       "4      4  negative"
      ]
     },
     "execution_count": 10,
     "metadata": {},
     "output_type": "execute_result"
    }
   ],
   "source": [
    "y_pred = pd.read_csv('pred.txt')\n",
    "y_pred.head()"
   ]
  },
  {
   "cell_type": "code",
   "execution_count": 14,
   "id": "f23973cb",
   "metadata": {
    "ExecuteTime": {
     "end_time": "2023-03-04T18:34:40.780213Z",
     "start_time": "2023-03-04T18:34:40.759307Z"
    }
   },
   "outputs": [
    {
     "data": {
      "text/html": [
       "<div>\n",
       "<style scoped>\n",
       "    .dataframe tbody tr th:only-of-type {\n",
       "        vertical-align: middle;\n",
       "    }\n",
       "\n",
       "    .dataframe tbody tr th {\n",
       "        vertical-align: top;\n",
       "    }\n",
       "\n",
       "    .dataframe thead th {\n",
       "        text-align: right;\n",
       "    }\n",
       "</style>\n",
       "<table border=\"1\" class=\"dataframe\">\n",
       "  <thead>\n",
       "    <tr style=\"text-align: right;\">\n",
       "      <th></th>\n",
       "      <th>0</th>\n",
       "      <th>1</th>\n",
       "    </tr>\n",
       "  </thead>\n",
       "  <tbody>\n",
       "    <tr>\n",
       "      <th>0</th>\n",
       "      <td>warung ini dimiliki oleh pengusaha pabrik tahu...</td>\n",
       "      <td>positive</td>\n",
       "    </tr>\n",
       "    <tr>\n",
       "      <th>1</th>\n",
       "      <td>saya bekerja di jakarta yang sering melakukan ...</td>\n",
       "      <td>positive</td>\n",
       "    </tr>\n",
       "    <tr>\n",
       "      <th>2</th>\n",
       "      <td>penjual meminta saya membuat video testing unt...</td>\n",
       "      <td>negative</td>\n",
       "    </tr>\n",
       "    <tr>\n",
       "      <th>3</th>\n",
       "      <td>tjiang , memiliki beberapa cabang di bandung y...</td>\n",
       "      <td>positive</td>\n",
       "    </tr>\n",
       "    <tr>\n",
       "      <th>4</th>\n",
       "      <td>kalau djarum memang agak tidak kuat , dia baru...</td>\n",
       "      <td>negative</td>\n",
       "    </tr>\n",
       "  </tbody>\n",
       "</table>\n",
       "</div>"
      ],
      "text/plain": [
       "                                                   0         1\n",
       "0  warung ini dimiliki oleh pengusaha pabrik tahu...  positive\n",
       "1  saya bekerja di jakarta yang sering melakukan ...  positive\n",
       "2  penjual meminta saya membuat video testing unt...  negative\n",
       "3  tjiang , memiliki beberapa cabang di bandung y...  positive\n",
       "4  kalau djarum memang agak tidak kuat , dia baru...  negative"
      ]
     },
     "execution_count": 14,
     "metadata": {},
     "output_type": "execute_result"
    }
   ],
   "source": [
    "y = pd.read_table('test_BERT.tsv', header=None)\n",
    "y.head()"
   ]
  },
  {
   "cell_type": "code",
   "execution_count": 15,
   "id": "11d95763",
   "metadata": {
    "ExecuteTime": {
     "end_time": "2023-03-04T18:35:14.643430Z",
     "start_time": "2023-03-04T18:35:14.628510Z"
    }
   },
   "outputs": [
    {
     "data": {
      "text/plain": [
       "((1101, 2), (1101, 2))"
      ]
     },
     "execution_count": 15,
     "metadata": {},
     "output_type": "execute_result"
    }
   ],
   "source": [
    "y.shape , y_pred.shape"
   ]
  },
  {
   "cell_type": "code",
   "execution_count": 29,
   "id": "2b170b4a",
   "metadata": {
    "ExecuteTime": {
     "end_time": "2023-03-05T12:58:19.539947Z",
     "start_time": "2023-03-05T12:58:19.457173Z"
    }
   },
   "outputs": [
    {
     "data": {
      "text/plain": [
       "positive    624\n",
       "negative    375\n",
       "neutral     102\n",
       "Name: label, dtype: int64"
      ]
     },
     "execution_count": 29,
     "metadata": {},
     "output_type": "execute_result"
    }
   ],
   "source": [
    "y_pred.label.value_counts()"
   ]
  },
  {
   "cell_type": "code",
   "execution_count": 17,
   "id": "cd4a4686",
   "metadata": {
    "ExecuteTime": {
     "end_time": "2023-03-04T18:35:39.659133Z",
     "start_time": "2023-03-04T18:35:39.644172Z"
    }
   },
   "outputs": [],
   "source": [
    "confusion_matrix = metrics.confusion_matrix(y[1], y_pred.label)"
   ]
  },
  {
   "cell_type": "code",
   "execution_count": 18,
   "id": "0d55819b",
   "metadata": {
    "ExecuteTime": {
     "end_time": "2023-03-04T18:35:43.889835Z",
     "start_time": "2023-03-04T18:35:43.872883Z"
    }
   },
   "outputs": [
    {
     "data": {
      "text/plain": [
       "array([[336,   2,  16],\n",
       "       [ 11,  96,   6],\n",
       "       [ 28,   4, 602]], dtype=int64)"
      ]
     },
     "execution_count": 18,
     "metadata": {},
     "output_type": "execute_result"
    }
   ],
   "source": [
    "confusion_matrix"
   ]
  },
  {
   "cell_type": "code",
   "execution_count": 30,
   "id": "8727f997",
   "metadata": {
    "ExecuteTime": {
     "end_time": "2023-03-05T12:58:58.178998Z",
     "start_time": "2023-03-05T12:58:57.773416Z"
    },
    "scrolled": false
   },
   "outputs": [
    {
     "data": {
      "image/png": "[encoded data removed]",
      "text/plain": [
       "<Figure size 640x480 with 2 Axes>"
      ]
     },
     "metadata": {},
     "output_type": "display_data"
    }
   ],
   "source": [
    "cm_display = metrics.ConfusionMatrixDisplay(confusion_matrix = confusion_matrix, display_labels = ['Negative', 'Neutral','Positive'])\n",
    "\n",
    "cm_display.plot()\n",
    "plt.show()"
   ]
  },
  {
   "cell_type": "code",
   "execution_count": 26,
   "id": "859d1aa2",
   "metadata": {
    "ExecuteTime": {
     "end_time": "2023-03-04T18:45:57.516514Z",
     "start_time": "2023-03-04T18:45:57.505503Z"
    }
   },
   "outputs": [],
   "source": [
    "from sklearn.metrics import classification_report"
   ]
  },
  {
   "cell_type": "code",
   "execution_count": 28,
   "id": "21f2b8b8",
   "metadata": {
    "ExecuteTime": {
     "end_time": "2023-03-04T18:46:06.840880Z",
     "start_time": "2023-03-04T18:46:06.802940Z"
    }
   },
   "outputs": [
    {
     "name": "stdout",
     "output_type": "stream",
     "text": [
      "              precision    recall  f1-score   support\n",
      "\n",
      "    negative       0.90      0.95      0.92       354\n",
      "     neutral       0.94      0.85      0.89       113\n",
      "    positive       0.96      0.95      0.96       634\n",
      "\n",
      "    accuracy                           0.94      1101\n",
      "   macro avg       0.93      0.92      0.92      1101\n",
      "weighted avg       0.94      0.94      0.94      1101\n",
      "\n"
     ]
    }
   ],
   "source": [
    "print(classification_report(y[1], y_pred.label))"
   ]
  }
 ],
 "metadata": {
  "kernelspec": {
   "display_name": "Python 3 (ipykernel)",
   "language": "python",
   "name": "python3"
  },
  "language_info": {
   "codemirror_mode": {
    "name": "ipython",
    "version": 3
   },
   "file_extension": ".py",
   "mimetype": "text/x-python",
   "name": "python",
   "nbconvert_exporter": "python",
   "pygments_lexer": "ipython3",
   "version": "3.9.13"
  },
  "varInspector": {
   "cols": {
    "lenName": 16,
    "lenType": 16,
    "lenVar": 40
   },
   "kernels_config": {
    "python": {
     "delete_cmd_postfix": "",
     "delete_cmd_prefix": "del ",
     "library": "var_list.py",
     "varRefreshCmd": "print(var_dic_list())"
    },
    "r": {
     "delete_cmd_postfix": ") ",
     "delete_cmd_prefix": "rm(",
     "library": "var_list.r",
     "varRefreshCmd": "cat(var_dic_list()) "
    }
   },
   "types_to_exclude": [
    "module",
    "function",
    "builtin_function_or_method",
    "instance",
    "_Feature"
   ],
   "window_display": false
  }
 },
 "nbformat": 4,
 "nbformat_minor": 5
}
